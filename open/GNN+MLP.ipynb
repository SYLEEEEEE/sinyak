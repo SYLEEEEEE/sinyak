{
 "cells": [
  {
   "cell_type": "markdown",
   "id": "3ff09e1b",
   "metadata": {
    "toc": true
   },
   "source": [
    "<h1>Table of Contents<span class=\"tocSkip\"></span></h1>\n",
    "<div class=\"toc\"><ul class=\"toc-item\"><li><span><a href=\"#Import\" data-toc-modified-id=\"Import-1\"><span class=\"toc-item-num\">1&nbsp;&nbsp;</span>Import</a></span></li><li><span><a href=\"#Pre-Processing\" data-toc-modified-id=\"Pre-Processing-2\"><span class=\"toc-item-num\">2&nbsp;&nbsp;</span>Pre-Processing</a></span></li><li><span><a href=\"#Custom-Dataset\" data-toc-modified-id=\"Custom-Dataset-3\"><span class=\"toc-item-num\">3&nbsp;&nbsp;</span>Custom Dataset</a></span></li><li><span><a href=\"#Model\" data-toc-modified-id=\"Model-4\"><span class=\"toc-item-num\">4&nbsp;&nbsp;</span>Model</a></span></li><li><span><a href=\"#Training\" data-toc-modified-id=\"Training-5\"><span class=\"toc-item-num\">5&nbsp;&nbsp;</span>Training</a></span></li><li><span><a href=\"#Inference\" data-toc-modified-id=\"Inference-6\"><span class=\"toc-item-num\">6&nbsp;&nbsp;</span>Inference</a></span></li><li><span><a href=\"#Submission\" data-toc-modified-id=\"Submission-7\"><span class=\"toc-item-num\">7&nbsp;&nbsp;</span>Submission</a></span></li></ul></div>"
   ]
  },
  {
   "cell_type": "markdown",
   "id": "pYzhJrEibIlq",
   "metadata": {
    "id": "pYzhJrEibIlq"
   },
   "source": [
    "## Import"
   ]
  },
  {
   "cell_type": "code",
   "execution_count": 1,
   "id": "7f487ab4",
   "metadata": {
    "ExecuteTime": {
     "end_time": "2023-09-19T17:58:06.892098Z",
     "start_time": "2023-09-19T17:58:04.984522Z"
    }
   },
   "outputs": [],
   "source": [
    "import random\n",
    "import os\n",
    "\n",
    "import numpy as np\n",
    "import pandas as pd\n",
    "\n",
    "from sklearn.feature_selection import VarianceThreshold\n",
    "from sklearn.model_selection import train_test_split\n",
    "from sklearn.preprocessing import StandardScaler, MinMaxScaler\n",
    "from sklearn.ensemble import RandomForestRegressor\n",
    "\n",
    "from sklearn.experimental import enable_iterative_imputer\n",
    "from sklearn.impute import IterativeImputer\n",
    "\n",
    "import torch\n",
    "import torch.nn as nn\n",
    "from torch.utils.data import Dataset\n",
    "\n",
    "from torch_geometric.nn import GCNConv, global_mean_pool\n",
    "from torch_geometric.utils import from_smiles\n",
    "from torch_geometric.loader import DataLoader\n",
    "\n",
    "\n"
   ]
  },
  {
   "cell_type": "code",
   "execution_count": 2,
   "id": "6adfbbec",
   "metadata": {
    "ExecuteTime": {
     "end_time": "2023-09-19T17:58:06.907151Z",
     "start_time": "2023-09-19T17:58:06.893507Z"
    }
   },
   "outputs": [],
   "source": [
    "device = torch.device('mps') if torch.backends.mps.is_available() else torch.device('cpu')"
   ]
  },
  {
   "cell_type": "code",
   "execution_count": 3,
   "id": "714740f2",
   "metadata": {
    "ExecuteTime": {
     "end_time": "2023-09-19T17:58:06.915538Z",
     "start_time": "2023-09-19T17:58:06.910451Z"
    }
   },
   "outputs": [],
   "source": [
    "def seed_everything(seed):\n",
    "    random.seed(seed)\n",
    "    np.random.seed(seed)\n",
    "    os.environ[\"PYTHONHASHSEED\"] = str(seed)\n",
    "    torch.manual_seed(seed)\n",
    "\n",
    "seed_everything(42) # Seed 고정"
   ]
  },
  {
   "cell_type": "markdown",
   "id": "8afd5126",
   "metadata": {},
   "source": [
    "## Pre-Processing"
   ]
  },
  {
   "cell_type": "code",
   "execution_count": 37,
   "id": "dd052629",
   "metadata": {
    "ExecuteTime": {
     "end_time": "2023-09-19T20:51:18.238107Z",
     "start_time": "2023-09-19T20:51:18.195886Z"
    }
   },
   "outputs": [],
   "source": [
    "train = pd.read_csv('./train.csv').drop(columns=[\"id\"])\n",
    "test = pd.read_csv('./test.csv').drop(columns=[\"id\"])"
   ]
  },
  {
   "cell_type": "code",
   "execution_count": 5,
   "id": "e34a2ae9",
   "metadata": {
    "ExecuteTime": {
     "end_time": "2023-09-19T17:58:06.928586Z",
     "start_time": "2023-09-19T17:58:06.926832Z"
    }
   },
   "outputs": [],
   "source": [
    "# 사용할 column만 추출\n",
    "# train = train[['SMILES','MLM', 'HLM', 'AlogP', 'Molecular_Weight', 'Num_H_Acceptors', 'Num_H_Donors', 'Molecular_PolarSurfaceArea']]\n",
    "# test = test[['SMILES', 'AlogP', 'Molecular_Weight', 'Num_H_Acceptors', 'Num_H_Donors', 'Molecular_PolarSurfaceArea']]"
   ]
  },
  {
   "cell_type": "code",
   "execution_count": 6,
   "id": "e72a8b15",
   "metadata": {
    "ExecuteTime": {
     "end_time": "2023-09-19T17:58:09.959552Z",
     "start_time": "2023-09-19T17:58:06.929558Z"
    },
    "scrolled": true
   },
   "outputs": [
    {
     "data": {
      "text/plain": [
       "array([[  2.641, 361.505,   4.   , ...,   7.   ,   2.635,  92.76 ],\n",
       "       [  0.585, 370.399,   5.   , ...,   3.   ,   0.585,  68.31 ],\n",
       "       [  4.276, 347.414,   4.   , ...,   5.   ,   4.29 ,  92.86 ],\n",
       "       ...,\n",
       "       [  1.792, 349.383,   3.   , ...,   3.   ,   1.792,  69.72 ],\n",
       "       [  0.79 , 341.132,   3.   , ...,   2.   ,   0.423,  69.64 ],\n",
       "       [  2.782, 250.38 ,   2.   , ...,   5.   ,   0.606,  19.62 ]])"
      ]
     },
     "execution_count": 6,
     "metadata": {},
     "output_type": "execute_result"
    }
   ],
   "source": [
    "imputer = IterativeImputer(estimator=RandomForestRegressor(n_jobs=-1), random_state=42)\n",
    "imputer.fit_transform(train.drop(columns=['SMILES', 'MLM', 'HLM']))\n",
    "imputer.transform(test.drop(columns='SMILES'))"
   ]
  },
  {
   "cell_type": "code",
   "execution_count": null,
   "id": "1d665043",
   "metadata": {},
   "outputs": [],
   "source": []
  },
  {
   "cell_type": "markdown",
   "id": "e0d289fc",
   "metadata": {},
   "source": [
    "## Custom Dataset"
   ]
  },
  {
   "cell_type": "code",
   "execution_count": 7,
   "id": "145353ba",
   "metadata": {
    "ExecuteTime": {
     "end_time": "2023-09-19T17:58:09.964761Z",
     "start_time": "2023-09-19T17:58:09.960682Z"
    }
   },
   "outputs": [],
   "source": [
    "class CustomDataset(Dataset):\n",
    "    def __init__(self, df, target, is_test=False):\n",
    "        self.df = df\n",
    "        self.target = target # HLM or MLM\n",
    "        self.is_test = is_test # train,valid / test\n",
    "        self.scaler = MinMaxScaler()\n",
    "        \n",
    "        if not self.is_test: \n",
    "            self.graph = self.smiles2mol(df['SMILES'])\n",
    "            self.others = self.scaler.fit_transform(df.iloc[:,3:])\n",
    "\n",
    "        else: # valid or test\n",
    "            self.graph = self.smiles2mol(df['SMILES'])\n",
    "            self.others = self.scaler.fit_transform(df.iloc[:,1:])\n",
    "\n",
    "    def smiles2mol(self, smiles_list):\n",
    "        graph_list = []\n",
    "        for smiles in smiles_list:\n",
    "            graph_data = from_smiles(smiles)\n",
    "\n",
    "            graph_data.smiles = None\n",
    "            graph_data.edge_attr = None\n",
    "\n",
    "            graph_list.append(graph_data)\n",
    "        return graph_list            \n",
    "            \n",
    "    def __getitem__(self, index):\n",
    "        graph = self.graph[index]\n",
    "        others = self.others[index]\n",
    "        if not self.is_test: # test가 아닌 경우(label 존재)\n",
    "            label = self.df[self.target][index]\n",
    "            return graph, torch.tensor(others).float(), torch.tensor(label).float().unsqueeze(dim=-1) # feature, label\n",
    "\n",
    "        else: # test인 경우\n",
    "            return graph, torch.tensor(others).float() # feature\n",
    "\n",
    "    def __len__(self):\n",
    "        return len(self.df)"
   ]
  },
  {
   "cell_type": "code",
   "execution_count": 8,
   "id": "c600a122",
   "metadata": {
    "ExecuteTime": {
     "end_time": "2023-09-19T17:58:26.418298Z",
     "start_time": "2023-09-19T17:58:09.965892Z"
    },
    "scrolled": true
   },
   "outputs": [
    {
     "name": "stdout",
     "output_type": "stream",
     "text": [
      "9 7\n"
     ]
    }
   ],
   "source": [
    "\n",
    "train_MLM = CustomDataset(df=train, target='MLM', is_test=False)\n",
    "train_HLM = CustomDataset(df=train, target='HLM', is_test=False)\n",
    "\n",
    "# input_size1 = 9\n",
    "\n",
    "input_size1 = train_MLM.graph[1].x.size(1)\n",
    "input_size2 = train_MLM.others.shape[1]\n",
    "print(input_size1, input_size2)"
   ]
  },
  {
   "cell_type": "code",
   "execution_count": 9,
   "id": "7cb36a46",
   "metadata": {
    "ExecuteTime": {
     "end_time": "2023-09-19T17:58:26.422454Z",
     "start_time": "2023-09-19T17:58:26.420576Z"
    }
   },
   "outputs": [],
   "source": [
    "# Hyperparameter\n",
    "CFG = {'BATCH_SIZE': 512,\n",
    "       'EPOCHS': 300,\n",
    "       'INPUT_SIZE1': input_size1,\n",
    "       'INPUT_SIZE2': input_size2,\n",
    "       'HIDDEN_SIZE1': 512,\n",
    "       'HIDDEN_SIZE2': 512,\n",
    "       'OUTPUT_SIZE': 1,\n",
    "       'DROPOUT_RATE': 0.9,\n",
    "       'LEARNING_RATE': 1e-12}"
   ]
  },
  {
   "cell_type": "code",
   "execution_count": 10,
   "id": "090fa2f2",
   "metadata": {
    "ExecuteTime": {
     "end_time": "2023-09-19T17:58:26.566690Z",
     "start_time": "2023-09-19T17:58:26.424078Z"
    }
   },
   "outputs": [],
   "source": [
    "# train,valid split\n",
    "train_MLM_dataset, valid_MLM_dataset = train_test_split(train_MLM, test_size=0.2, random_state=42)\n",
    "train_HLM_dataset, valid_HLM_dataset = train_test_split(train_HLM, test_size=0.2, random_state=42)"
   ]
  },
  {
   "cell_type": "code",
   "execution_count": 11,
   "id": "fe86f36f",
   "metadata": {
    "ExecuteTime": {
     "end_time": "2023-09-19T17:58:26.570195Z",
     "start_time": "2023-09-19T17:58:26.567564Z"
    }
   },
   "outputs": [],
   "source": [
    "train_MLM_loader = DataLoader(dataset=train_MLM_dataset,\n",
    "                              batch_size=CFG['BATCH_SIZE'],\n",
    "                              shuffle=True)\n",
    "\n",
    "valid_MLM_loader = DataLoader(dataset=valid_MLM_dataset,\n",
    "                              batch_size=CFG['BATCH_SIZE'],\n",
    "                              shuffle=False)\n",
    "\n",
    "\n",
    "train_HLM_loader = DataLoader(dataset=train_HLM_dataset,\n",
    "                              batch_size=CFG['BATCH_SIZE'],\n",
    "                              shuffle=True)\n",
    "\n",
    "valid_HLM_loader = DataLoader(dataset=valid_HLM_dataset,\n",
    "                              batch_size=CFG['BATCH_SIZE'],\n",
    "                              shuffle=False)"
   ]
  },
  {
   "cell_type": "markdown",
   "id": "8CHzFfvrbnOM",
   "metadata": {
    "id": "8CHzFfvrbnOM"
   },
   "source": [
    "## Model"
   ]
  },
  {
   "cell_type": "code",
   "execution_count": 12,
   "id": "68141433",
   "metadata": {
    "ExecuteTime": {
     "end_time": "2023-09-19T17:58:26.574863Z",
     "start_time": "2023-09-19T17:58:26.571045Z"
    },
    "id": "AWUlJIGf22DO"
   },
   "outputs": [],
   "source": [
    "class Net(nn.Module):\n",
    "    def __init__(self, input_size2, hidden_size2, dropout_rate, output_size):\n",
    "        super(Net, self).__init__()\n",
    "        \n",
    "        # fc 레이어 3개와 출력 레이어\n",
    "        self.fc1 = nn.Linear(input_size2, hidden_size2) \n",
    "        self.fc2 = nn.Linear(hidden_size2, hidden_size2)\n",
    "        self.fc3 = nn.Linear(hidden_size2, hidden_size2)\n",
    "        self.fc4 = nn.Linear(hidden_size2, hidden_size2)\n",
    "        self.fc_out = nn.Linear(hidden_size2, output_size)\n",
    "        \n",
    "        # 정규화\n",
    "        self.ln1 = nn.LayerNorm(hidden_size2)\n",
    "        self.ln2 = nn.LayerNorm(hidden_size2)\n",
    "        self.ln3 = nn.LayerNorm(hidden_size2)        \n",
    "        self.ln4 = nn.LayerNorm(hidden_size2)\n",
    "        \n",
    "        # 활성화 함수\n",
    "        self.activation = nn.ReLU()\n",
    "        \n",
    "        # Dropout\n",
    "        self.dropout = nn.Dropout(dropout_rate)\n",
    "        \n",
    "    \n",
    "    def forward(self, x):\n",
    "        \n",
    "        out = self.fc1(x)\n",
    "        out = self.ln1(out)\n",
    "        out = self.activation(out)\n",
    "        out = self.dropout(out)\n",
    "        \n",
    "        out = self.fc2(out)\n",
    "        out = self.ln2(out)\n",
    "        out = self.activation(out)\n",
    "        out = self.dropout(out)\n",
    "        \n",
    "        out = self.fc3(out)\n",
    "        out = self.ln3(out)\n",
    "        out = self.activation(out)\n",
    "        out = self.dropout(out)\n",
    "\n",
    "        out = self.fc4(out)\n",
    "        out = self.ln4(out)\n",
    "        out = self.activation(out)\n",
    "        out = self.dropout(out)\n",
    "        \n",
    "        out = self.fc_out(out)\n",
    "        return out"
   ]
  },
  {
   "cell_type": "code",
   "execution_count": 13,
   "id": "28bfb402",
   "metadata": {
    "ExecuteTime": {
     "end_time": "2023-09-19T17:58:26.579559Z",
     "start_time": "2023-09-19T17:58:26.575792Z"
    }
   },
   "outputs": [],
   "source": [
    "# GNN 모델 정의\n",
    "class GNN(nn.Module):\n",
    "    def __init__(self, input_size1, hidden_size1, dropout_rate, output_size):\n",
    "        super(GNN, self).__init__()\n",
    "        self.conv1 = GCNConv(input_size1, hidden_size1)\n",
    "        self.conv2 = GCNConv(hidden_size1, hidden_size1)\n",
    "        self.conv3 = GCNConv(hidden_size1, hidden_size1)\n",
    "        self.conv4 = GCNConv(hidden_size1, hidden_size1)\n",
    "        self.fc_out = nn.Linear(hidden_size1, output_size)\n",
    "        \n",
    "        self.bn1 = nn.BatchNorm1d(hidden_size1)\n",
    "        self.bn2 = nn.BatchNorm1d(hidden_size1)\n",
    "        self.bn3 = nn.BatchNorm1d(hidden_size1)\n",
    "        self.bn4 = nn.BatchNorm1d(hidden_size1)\n",
    "        \n",
    "        # 활성화 함수\n",
    "        self.activation = nn.ReLU()\n",
    "        \n",
    "        # Dropout\n",
    "        self.dropout = nn.Dropout(dropout_rate)\n",
    "    \n",
    "     \n",
    "    def forward(self, x, edge_idx_, batch):\n",
    "        out, edge_index = x, edge_idx_\n",
    "\n",
    "        out = self.conv1(out, edge_index)\n",
    "        out = self.bn1(out)\n",
    "        out = self.activation(out)\n",
    "        out = self.dropout(out)\n",
    "        \n",
    "        out = self.conv2(out, edge_index)\n",
    "        out = self.bn2(out)\n",
    "        out = self.activation(out)\n",
    "        out = self.dropout(out)\n",
    "        \n",
    "        out = self.conv3(out, edge_index)\n",
    "        out = self.bn3(out)\n",
    "        out = self.activation(out)\n",
    "        out = self.dropout(out)\n",
    "        \n",
    "        out = self.conv4(out, edge_index)\n",
    "        out = self.bn4(out)\n",
    "        out = self.activation(out)\n",
    "        out = self.dropout(out)\n",
    "        \n",
    "        out = global_mean_pool(out, batch) # read-out layer\n",
    "        \n",
    "        out = self.fc_out(out)\n",
    "        return out\n"
   ]
  },
  {
   "cell_type": "code",
   "execution_count": 14,
   "id": "c175bbca",
   "metadata": {
    "ExecuteTime": {
     "end_time": "2023-09-19T17:58:26.583268Z",
     "start_time": "2023-09-19T17:58:26.580651Z"
    }
   },
   "outputs": [],
   "source": [
    "class ClassificationModel(nn.Module):\n",
    "    def __init__(self, input_size1, input_size2, hidden_size1, hidden_size2, drop_rate, output_size):\n",
    "        super(ClassificationModel, self).__init__()\n",
    "        self.GNN_extractor = GNN(input_size1, hidden_size1, drop_rate, output_size)\n",
    "        self.Net_extractor = Net(input_size2, hidden_size2, drop_rate, output_size)\n",
    "#         self.classifier = nn.Linear(in_features=hidden_size*2, out_features=output_size)\n",
    "        self.classifier = nn.Linear(in_features=output_size*2, out_features=output_size)\n",
    "\n",
    "    def forward(self, graph, others, edge_idx_, batch):\n",
    "        GNN_feature = self.GNN_extractor(graph, edge_idx_, batch)\n",
    "        Net_feature = self.Net_extractor(others)\n",
    "        feature = torch.cat([GNN_feature, Net_feature], dim=-1)\n",
    "        output = self.classifier(feature)\n",
    "        return output"
   ]
  },
  {
   "cell_type": "code",
   "execution_count": 15,
   "id": "9IlcjfOB22DO",
   "metadata": {
    "ExecuteTime": {
     "end_time": "2023-09-19T17:58:26.603304Z",
     "start_time": "2023-09-19T17:58:26.584495Z"
    },
    "id": "9IlcjfOB22DO"
   },
   "outputs": [],
   "source": [
    "model_MLM = ClassificationModel(CFG['INPUT_SIZE1'],CFG['INPUT_SIZE2'],CFG['HIDDEN_SIZE1'],CFG['HIDDEN_SIZE2'],CFG['DROPOUT_RATE'],CFG['OUTPUT_SIZE'])\n",
    "model_HLM = ClassificationModel(CFG['INPUT_SIZE1'],CFG['INPUT_SIZE2'],CFG['HIDDEN_SIZE1'],CFG['HIDDEN_SIZE2'],CFG['DROPOUT_RATE'],CFG['OUTPUT_SIZE'])\n"
   ]
  },
  {
   "cell_type": "code",
   "execution_count": 16,
   "id": "d2ddd32e",
   "metadata": {
    "ExecuteTime": {
     "end_time": "2023-09-19T17:58:26.610350Z",
     "start_time": "2023-09-19T17:58:26.604192Z"
    }
   },
   "outputs": [],
   "source": [
    "import math\n",
    "from torch.optim.lr_scheduler import _LRScheduler\n",
    "\n",
    "class CosineAnnealingWarmUpRestarts(_LRScheduler):\n",
    "    def __init__(self, optimizer, T_0, T_mult=1, eta_max=0.1, T_up=0, gamma=1., last_epoch=-1):\n",
    "        if T_0 <= 0 or not isinstance(T_0, int):\n",
    "            raise ValueError(\"Expected positive integer T_0, but got {}\".format(T_0))\n",
    "        if T_mult < 1 or not isinstance(T_mult, int):\n",
    "            raise ValueError(\"Expected integer T_mult >= 1, but got {}\".format(T_mult))\n",
    "        if T_up < 0 or not isinstance(T_up, int):\n",
    "            raise ValueError(\"Expected positive integer T_up, but got {}\".format(T_up))\n",
    "        self.T_0 = T_0\n",
    "        self.T_mult = T_mult\n",
    "        self.base_eta_max = eta_max\n",
    "        self.eta_max = eta_max\n",
    "        self.T_up = T_up\n",
    "        self.T_i = T_0\n",
    "        self.gamma = gamma\n",
    "        self.cycle = 0\n",
    "        self.T_cur = last_epoch\n",
    "        super(CosineAnnealingWarmUpRestarts, self).__init__(optimizer, last_epoch)\n",
    "    \n",
    "    def get_lr(self):\n",
    "        if self.T_cur == -1:\n",
    "            return self.base_lrs\n",
    "        elif self.T_cur < self.T_up:\n",
    "            return [(self.eta_max - base_lr)*self.T_cur / self.T_up + base_lr for base_lr in self.base_lrs]\n",
    "        else:\n",
    "            return [base_lr + (self.eta_max - base_lr) * (1 + math.cos(math.pi * (self.T_cur-self.T_up) / (self.T_i - self.T_up))) / 2\n",
    "                    for base_lr in self.base_lrs]\n",
    "\n",
    "    def step(self, epoch=None):\n",
    "        if epoch is None:\n",
    "            epoch = self.last_epoch + 1\n",
    "            self.T_cur = self.T_cur + 1\n",
    "            if self.T_cur >= self.T_i:\n",
    "                self.cycle += 1\n",
    "                self.T_cur = self.T_cur - self.T_i\n",
    "                self.T_i = (self.T_i - self.T_up) * self.T_mult + self.T_up\n",
    "        else:\n",
    "            if epoch >= self.T_0:\n",
    "                if self.T_mult == 1:\n",
    "                    self.T_cur = epoch % self.T_0\n",
    "                    self.cycle = epoch // self.T_0\n",
    "                else:\n",
    "                    n = int(math.log((epoch / self.T_0 * (self.T_mult - 1) + 1), self.T_mult))\n",
    "                    self.cycle = n\n",
    "                    self.T_cur = epoch - self.T_0 * (self.T_mult ** n - 1) / (self.T_mult - 1)\n",
    "                    self.T_i = self.T_0 * self.T_mult ** (n)\n",
    "            else:\n",
    "                self.T_i = self.T_0\n",
    "                self.T_cur = epoch\n",
    "                \n",
    "        self.eta_max = self.base_eta_max * (self.gamma**self.cycle)\n",
    "        self.last_epoch = math.floor(epoch)\n",
    "        for param_group, lr in zip(self.optimizer.param_groups, self.get_lr()):\n",
    "            param_group['lr'] = lr"
   ]
  },
  {
   "cell_type": "code",
   "execution_count": 17,
   "id": "IuQe4Za322DP",
   "metadata": {
    "ExecuteTime": {
     "end_time": "2023-09-19T17:58:26.614188Z",
     "start_time": "2023-09-19T17:58:26.611594Z"
    },
    "id": "IuQe4Za322DP"
   },
   "outputs": [],
   "source": [
    "# criterion = nn.MSELoss()\n",
    "optimizer_MLM = torch.optim.Adam(model_MLM.parameters(), lr=CFG['LEARNING_RATE'])\n",
    "optimizer_HLM = torch.optim.Adam(model_HLM.parameters(), lr=CFG['LEARNING_RATE'])\n",
    "# optimizer_MLM = torch.optim.SGD(model_MLM.parameters(), lr=CFG['LEARNING_RATE'], momentum=0.9)\n",
    "# optimizer_HLM = torch.optim.SGD(model_HLM.parameters(), lr=CFG['LEARNING_RATE'], momentum=0.9)\n",
    "# scheduler_MLM = torch.optim.lr_scheduler.ReduceLROnPlateau(optimizer_MLM, mode='min', factor=0.5, patience=5, threshold_mode='abs', min_lr=0, eps=1e-8, verbose=True)\n",
    "# scheduler_HLM = torch.optim.lr_scheduler.ReduceLROnPlateau(optimizer_HLM, mode='min', factor=0.5, patience=5, threshold_mode='abs', min_lr=0, eps=1e-8, verbose=True)\n",
    "scheduler_MLM = CosineAnnealingWarmUpRestarts(optimizer_MLM, T_0=60, T_mult=1, eta_max=0.1,  T_up=6, gamma=0.5)\n",
    "scheduler_HLM = CosineAnnealingWarmUpRestarts(optimizer_HLM, T_0=60, T_mult=1, eta_max=0.1,  T_up=6, gamma=0.5)\n",
    "#주기, 주기변화율, 최대lr, 초기활성ep, 진폭변화율"
   ]
  },
  {
   "cell_type": "markdown",
   "id": "e032e346",
   "metadata": {},
   "source": [
    "## Training"
   ]
  },
  {
   "cell_type": "code",
   "execution_count": 18,
   "id": "13dfbe7f",
   "metadata": {
    "ExecuteTime": {
     "end_time": "2023-09-19T17:58:26.617542Z",
     "start_time": "2023-09-19T17:58:26.615309Z"
    }
   },
   "outputs": [],
   "source": [
    "class RMSELoss(nn.Module):\n",
    "    def __init__(self):\n",
    "        super(RMSELoss, self).__init__()\n",
    "        self.mse = nn.MSELoss()\n",
    "\n",
    "    def forward(self, y_hat, y):\n",
    "        loss = torch.sqrt(self.mse(y_hat,y))\n",
    "        return loss"
   ]
  },
  {
   "cell_type": "code",
   "execution_count": 19,
   "id": "a17df6b3-16c9-44dd-b0fd-ffb501fee749",
   "metadata": {
    "ExecuteTime": {
     "end_time": "2023-09-19T17:58:26.622011Z",
     "start_time": "2023-09-19T17:58:26.618622Z"
    }
   },
   "outputs": [],
   "source": [
    "def train(model, optimizer, train_loader, val_loader, scheduler, device):\n",
    "    model.train()\n",
    "    model.to(device)\n",
    "\n",
    "    criterion = RMSELoss().to(device)\n",
    "    \n",
    "    \n",
    "    for epoch in range(CFG['EPOCHS']):\n",
    "        running_loss = 0\n",
    "        for inputs, others, targets in train_loader:\n",
    "            optimizer.zero_grad()\n",
    "            inputs_ = inputs.x.type(torch.float32).to(device)\n",
    "            edge_idx_ = inputs.edge_index.to(device)\n",
    "            others = others.to(device)\n",
    "            targets = targets.to(device)\n",
    "            batch = inputs.batch.to(device)\n",
    "\n",
    "            output = model(inputs_, others, edge_idx_, batch)\n",
    "\n",
    "            \n",
    "            loss = criterion(output, targets)\n",
    "\n",
    "            \n",
    "            loss.backward()\n",
    "            optimizer.step()\n",
    "            \n",
    "            running_loss += loss.item()\n",
    "            \n",
    "\n",
    "            \n",
    "        if epoch % 10 == 0:\n",
    "            \n",
    "            val_loss = validation(model, criterion, val_loader, device)\n",
    "            \n",
    "            print(f'Epoch: {epoch}, Train Loss: {running_loss/len(train_loader)}, Valid Loss: {val_loss/len(valid_HLM_loader)}')\n",
    "            \n",
    "            model.train()\n",
    "            \n",
    "        if scheduler is not None:\n",
    "            scheduler.step(val_loss)\n",
    "#             if scheduler.num_bad_epochs > scheduler.patience:\n",
    "#                 print(f'Early stopping at epoch {epoch}...')\n",
    "#                 break\n",
    "    return model"
   ]
  },
  {
   "cell_type": "code",
   "execution_count": 20,
   "id": "96b1c524-89fb-4ce8-a49f-067fd489f84a",
   "metadata": {
    "ExecuteTime": {
     "end_time": "2023-09-19T17:58:26.625754Z",
     "start_time": "2023-09-19T17:58:26.623066Z"
    }
   },
   "outputs": [],
   "source": [
    "def validation(model, criterion, val_loader, device):\n",
    "    model.eval()\n",
    "    val_loss = 0\n",
    "\n",
    "    with torch.no_grad():\n",
    "        for inputs, others, targets in val_loader:\n",
    "            inputs_ = inputs.x.type(torch.float32).to(device)\n",
    "            edge_idx_ = inputs.edge_index.to(device)\n",
    "            others = others.to(device)\n",
    "            targets = targets.to(device)\n",
    "            batch = inputs.batch.to(device)\n",
    "            \n",
    "            output = model(inputs_, others, edge_idx_, batch)\n",
    "            loss = criterion(output, targets)\n",
    "            val_loss += loss.item()\n",
    "            \n",
    "    \n",
    "    return val_loss"
   ]
  },
  {
   "cell_type": "code",
   "execution_count": 21,
   "id": "eda577c7",
   "metadata": {
    "ExecuteTime": {
     "end_time": "2023-09-19T19:14:51.441395Z",
     "start_time": "2023-09-19T17:58:26.626849Z"
    },
    "scrolled": true
   },
   "outputs": [
    {
     "name": "stdout",
     "output_type": "stream",
     "text": [
      "Training Start: MLM\n"
     ]
    },
    {
     "name": "stderr",
     "output_type": "stream",
     "text": [
      "/opt/homebrew/Caskroom/miniforge/base/envs/dl/lib/python3.9/site-packages/torch_geometric/nn/pool/glob.py:62: UserWarning: MPS: no support for int64 min/max ops, casting it to int32 (Triggered internally at /Users/runner/work/_temp/anaconda/conda-bld/pytorch_1682343673238/work/aten/src/ATen/native/mps/operations/ReduceOps.mm:1271.)\n",
      "  size = int(batch.max().item() + 1) if size is None else size\n"
     ]
    },
    {
     "name": "stdout",
     "output_type": "stream",
     "text": [
      "Epoch: 0, Train Loss: 51.62518310546875, Valid Loss: 53.26648139953613\n",
      "Epoch: 10, Train Loss: 34.22912089029948, Valid Loss: 38.31791687011719\n",
      "Epoch: 20, Train Loss: 34.71701304117838, Valid Loss: 35.34318161010742\n",
      "Epoch: 30, Train Loss: 33.59823226928711, Valid Loss: 36.71169853210449\n",
      "Epoch: 40, Train Loss: 33.89349047342936, Valid Loss: 35.64033889770508\n",
      "Epoch: 50, Train Loss: 33.53325208028158, Valid Loss: 36.46069526672363\n",
      "Epoch: 60, Train Loss: 33.50884246826172, Valid Loss: 39.76544952392578\n",
      "Epoch: 70, Train Loss: 33.56611760457357, Valid Loss: 36.759124755859375\n",
      "Epoch: 80, Train Loss: 33.09699312845866, Valid Loss: 35.68182945251465\n",
      "Epoch: 90, Train Loss: 33.37413787841797, Valid Loss: 35.843393325805664\n",
      "Epoch: 100, Train Loss: 33.29993120829264, Valid Loss: 38.28512001037598\n",
      "Epoch: 110, Train Loss: 33.017739613850914, Valid Loss: 38.321083068847656\n",
      "Epoch: 120, Train Loss: 33.23372332255045, Valid Loss: 40.96507263183594\n",
      "Epoch: 130, Train Loss: 33.09641965230306, Valid Loss: 37.90201759338379\n",
      "Epoch: 140, Train Loss: 33.07234764099121, Valid Loss: 39.043813705444336\n",
      "Epoch: 150, Train Loss: 33.066168467203774, Valid Loss: 36.74357986450195\n",
      "Epoch: 160, Train Loss: 32.972724278767906, Valid Loss: 38.05421829223633\n",
      "Epoch: 170, Train Loss: 32.96857261657715, Valid Loss: 36.002357482910156\n",
      "Epoch: 180, Train Loss: 33.255294481913246, Valid Loss: 38.10143852233887\n",
      "Epoch: 190, Train Loss: 32.89049434661865, Valid Loss: 38.46581268310547\n",
      "Epoch: 200, Train Loss: 32.906167348225914, Valid Loss: 34.275827407836914\n",
      "Epoch: 210, Train Loss: 32.85347398122152, Valid Loss: 38.075212478637695\n",
      "Epoch: 220, Train Loss: 32.774099349975586, Valid Loss: 36.018733978271484\n",
      "Epoch: 230, Train Loss: 32.790007909139, Valid Loss: 34.9605712890625\n",
      "Epoch: 240, Train Loss: 32.92515881856283, Valid Loss: 34.97400093078613\n",
      "Epoch: 250, Train Loss: 32.88676770528158, Valid Loss: 35.85670852661133\n",
      "Epoch: 260, Train Loss: 32.78084977467855, Valid Loss: 36.27714920043945\n",
      "Epoch: 270, Train Loss: 32.58260695139567, Valid Loss: 36.82625961303711\n",
      "Epoch: 280, Train Loss: 32.8651237487793, Valid Loss: 37.85256767272949\n",
      "Epoch: 290, Train Loss: 32.70780118306478, Valid Loss: 36.4556770324707\n",
      "Training Start: HLM\n",
      "Epoch: 0, Train Loss: 64.88687833150227, Valid Loss: 63.28022766113281\n",
      "Epoch: 10, Train Loss: 35.17208735148112, Valid Loss: 43.72962760925293\n",
      "Epoch: 20, Train Loss: 35.30386479695638, Valid Loss: 41.13977241516113\n",
      "Epoch: 30, Train Loss: 35.06726519266764, Valid Loss: 35.94951629638672\n",
      "Epoch: 40, Train Loss: 34.95327377319336, Valid Loss: 43.28409957885742\n",
      "Epoch: 50, Train Loss: 35.054439544677734, Valid Loss: 39.950796127319336\n",
      "Epoch: 60, Train Loss: 35.15340677897135, Valid Loss: 40.20064926147461\n",
      "Epoch: 70, Train Loss: 35.08758036295573, Valid Loss: 39.7921142578125\n",
      "Epoch: 80, Train Loss: 34.45132191975912, Valid Loss: 43.94307327270508\n",
      "Epoch: 90, Train Loss: 34.45520337422689, Valid Loss: 41.42120552062988\n",
      "Epoch: 100, Train Loss: 34.43047332763672, Valid Loss: 41.99629783630371\n",
      "Epoch: 110, Train Loss: 34.797540028889976, Valid Loss: 40.12457084655762\n",
      "Epoch: 120, Train Loss: 34.69484519958496, Valid Loss: 38.742197036743164\n",
      "Epoch: 130, Train Loss: 34.39845403035482, Valid Loss: 39.631364822387695\n",
      "Epoch: 140, Train Loss: 34.793755849202476, Valid Loss: 39.128347396850586\n",
      "Epoch: 150, Train Loss: 34.666513442993164, Valid Loss: 41.308603286743164\n",
      "Epoch: 160, Train Loss: 34.56995836893717, Valid Loss: 36.395423889160156\n",
      "Epoch: 170, Train Loss: 34.45744323730469, Valid Loss: 37.49578285217285\n",
      "Epoch: 180, Train Loss: 34.54358100891113, Valid Loss: 38.959842681884766\n",
      "Epoch: 190, Train Loss: 34.45300420125326, Valid Loss: 35.19294548034668\n",
      "Epoch: 200, Train Loss: 34.28719393412272, Valid Loss: 38.14349365234375\n",
      "Epoch: 210, Train Loss: 34.14385668436686, Valid Loss: 34.85257530212402\n",
      "Epoch: 220, Train Loss: 34.75874900817871, Valid Loss: 37.788021087646484\n",
      "Epoch: 230, Train Loss: 34.48651250203451, Valid Loss: 34.41550064086914\n",
      "Epoch: 240, Train Loss: 34.36675008138021, Valid Loss: 37.58255386352539\n",
      "Epoch: 250, Train Loss: 34.323954264322914, Valid Loss: 38.57260322570801\n",
      "Epoch: 260, Train Loss: 34.21450996398926, Valid Loss: 34.981889724731445\n",
      "Epoch: 270, Train Loss: 34.17347717285156, Valid Loss: 37.732948303222656\n",
      "Epoch: 280, Train Loss: 34.15520731608073, Valid Loss: 36.574127197265625\n",
      "Epoch: 290, Train Loss: 34.25196075439453, Valid Loss: 38.73654556274414\n"
     ]
    }
   ],
   "source": [
    "print(\"Training Start: MLM\")\n",
    "# model_MLM = train(train_MLM_loader, valid_MLM_loader, model_MLM, criterion, optimizer_MLM, epochs=CFG['EPOCHS'])\n",
    "model_MLM = train(model_MLM, optimizer_MLM, train_MLM_loader, valid_MLM_loader, scheduler_MLM, device)\n",
    "print(\"Training Start: HLM\")\n",
    "# model_HLM = train(train_HLM_loader, valid_HLM_loader, model_HLM, criterion, optimizer_HLM, epochs=CFG['EPOCHS'])\n",
    "model_HLM = train(model_HLM, optimizer_HLM, train_HLM_loader, valid_HLM_loader, scheduler_HLM, device)"
   ]
  },
  {
   "cell_type": "markdown",
   "id": "b39bbce5",
   "metadata": {},
   "source": [
    "## Inference"
   ]
  },
  {
   "cell_type": "code",
   "execution_count": 22,
   "id": "3cbc3181",
   "metadata": {
    "ExecuteTime": {
     "end_time": "2023-09-19T19:14:53.894057Z",
     "start_time": "2023-09-19T19:14:51.447612Z"
    }
   },
   "outputs": [],
   "source": [
    "test_MLM = CustomDataset(df=test, target=None, is_test=True)\n",
    "test_HLM = CustomDataset(df=test, target=None, is_test=True)\n",
    "\n",
    "test_MLM_loader = DataLoader(dataset=test_MLM,\n",
    "                             batch_size=CFG['BATCH_SIZE'],\n",
    "                             shuffle=False)\n",
    "\n",
    "test_HLM_loader = DataLoader(dataset=test_HLM,\n",
    "                             batch_size=CFG['BATCH_SIZE'],\n",
    "                             shuffle=False)"
   ]
  },
  {
   "cell_type": "code",
   "execution_count": 23,
   "id": "e5d8a4e4",
   "metadata": {
    "ExecuteTime": {
     "end_time": "2023-09-19T19:14:53.900386Z",
     "start_time": "2023-09-19T19:14:53.895489Z"
    }
   },
   "outputs": [],
   "source": [
    "def inference(test_loader, model):\n",
    "    model.eval()\n",
    "    preds = []\n",
    "    \n",
    "    with torch.no_grad():\n",
    "        for inputs, others in test_loader:\n",
    "            inputs_ = inputs.x.type(torch.float32).to(device)\n",
    "            edge_idx_ = inputs.edge_index.to(device)\n",
    "            others = others.to(device)\n",
    "            batch = inputs.batch.to(device)\n",
    "            \n",
    "            output = model(inputs_, others, edge_idx_, batch)\n",
    "            preds.extend(output.cpu().numpy().flatten().tolist())\n",
    "    \n",
    "    return preds"
   ]
  },
  {
   "cell_type": "code",
   "execution_count": 24,
   "id": "d9794de7",
   "metadata": {
    "ExecuteTime": {
     "end_time": "2023-09-19T19:15:00.490796Z",
     "start_time": "2023-09-19T19:14:53.902052Z"
    }
   },
   "outputs": [],
   "source": [
    "predictions_MLM = inference(test_MLM_loader, model_MLM)\n",
    "predictions_HLM = inference(test_HLM_loader, model_HLM)"
   ]
  },
  {
   "cell_type": "markdown",
   "id": "bcb42d64",
   "metadata": {},
   "source": [
    "## Submission"
   ]
  },
  {
   "cell_type": "code",
   "execution_count": 25,
   "id": "a8e574c0",
   "metadata": {
    "ExecuteTime": {
     "end_time": "2023-09-19T19:15:00.508736Z",
     "start_time": "2023-09-19T19:15:00.491651Z"
    }
   },
   "outputs": [
    {
     "data": {
      "text/html": [
       "<div>\n",
       "<style scoped>\n",
       "    .dataframe tbody tr th:only-of-type {\n",
       "        vertical-align: middle;\n",
       "    }\n",
       "\n",
       "    .dataframe tbody tr th {\n",
       "        vertical-align: top;\n",
       "    }\n",
       "\n",
       "    .dataframe thead th {\n",
       "        text-align: right;\n",
       "    }\n",
       "</style>\n",
       "<table border=\"1\" class=\"dataframe\">\n",
       "  <thead>\n",
       "    <tr style=\"text-align: right;\">\n",
       "      <th></th>\n",
       "      <th>id</th>\n",
       "      <th>MLM</th>\n",
       "      <th>HLM</th>\n",
       "    </tr>\n",
       "  </thead>\n",
       "  <tbody>\n",
       "    <tr>\n",
       "      <th>0</th>\n",
       "      <td>TEST_000</td>\n",
       "      <td>0</td>\n",
       "      <td>0</td>\n",
       "    </tr>\n",
       "    <tr>\n",
       "      <th>1</th>\n",
       "      <td>TEST_001</td>\n",
       "      <td>0</td>\n",
       "      <td>0</td>\n",
       "    </tr>\n",
       "    <tr>\n",
       "      <th>2</th>\n",
       "      <td>TEST_002</td>\n",
       "      <td>0</td>\n",
       "      <td>0</td>\n",
       "    </tr>\n",
       "    <tr>\n",
       "      <th>3</th>\n",
       "      <td>TEST_003</td>\n",
       "      <td>0</td>\n",
       "      <td>0</td>\n",
       "    </tr>\n",
       "    <tr>\n",
       "      <th>4</th>\n",
       "      <td>TEST_004</td>\n",
       "      <td>0</td>\n",
       "      <td>0</td>\n",
       "    </tr>\n",
       "    <tr>\n",
       "      <th>...</th>\n",
       "      <td>...</td>\n",
       "      <td>...</td>\n",
       "      <td>...</td>\n",
       "    </tr>\n",
       "    <tr>\n",
       "      <th>478</th>\n",
       "      <td>TEST_478</td>\n",
       "      <td>0</td>\n",
       "      <td>0</td>\n",
       "    </tr>\n",
       "    <tr>\n",
       "      <th>479</th>\n",
       "      <td>TEST_479</td>\n",
       "      <td>0</td>\n",
       "      <td>0</td>\n",
       "    </tr>\n",
       "    <tr>\n",
       "      <th>480</th>\n",
       "      <td>TEST_480</td>\n",
       "      <td>0</td>\n",
       "      <td>0</td>\n",
       "    </tr>\n",
       "    <tr>\n",
       "      <th>481</th>\n",
       "      <td>TEST_481</td>\n",
       "      <td>0</td>\n",
       "      <td>0</td>\n",
       "    </tr>\n",
       "    <tr>\n",
       "      <th>482</th>\n",
       "      <td>TEST_482</td>\n",
       "      <td>0</td>\n",
       "      <td>0</td>\n",
       "    </tr>\n",
       "  </tbody>\n",
       "</table>\n",
       "<p>483 rows × 3 columns</p>\n",
       "</div>"
      ],
      "text/plain": [
       "           id  MLM  HLM\n",
       "0    TEST_000    0    0\n",
       "1    TEST_001    0    0\n",
       "2    TEST_002    0    0\n",
       "3    TEST_003    0    0\n",
       "4    TEST_004    0    0\n",
       "..        ...  ...  ...\n",
       "478  TEST_478    0    0\n",
       "479  TEST_479    0    0\n",
       "480  TEST_480    0    0\n",
       "481  TEST_481    0    0\n",
       "482  TEST_482    0    0\n",
       "\n",
       "[483 rows x 3 columns]"
      ]
     },
     "execution_count": 25,
     "metadata": {},
     "output_type": "execute_result"
    }
   ],
   "source": [
    "submission = pd.read_csv('./sample_submission.csv')\n",
    "submission"
   ]
  },
  {
   "cell_type": "code",
   "execution_count": 26,
   "id": "569d8575",
   "metadata": {
    "ExecuteTime": {
     "end_time": "2023-09-19T19:15:00.515710Z",
     "start_time": "2023-09-19T19:15:00.510032Z"
    }
   },
   "outputs": [
    {
     "data": {
      "text/html": [
       "<div>\n",
       "<style scoped>\n",
       "    .dataframe tbody tr th:only-of-type {\n",
       "        vertical-align: middle;\n",
       "    }\n",
       "\n",
       "    .dataframe tbody tr th {\n",
       "        vertical-align: top;\n",
       "    }\n",
       "\n",
       "    .dataframe thead th {\n",
       "        text-align: right;\n",
       "    }\n",
       "</style>\n",
       "<table border=\"1\" class=\"dataframe\">\n",
       "  <thead>\n",
       "    <tr style=\"text-align: right;\">\n",
       "      <th></th>\n",
       "      <th>id</th>\n",
       "      <th>MLM</th>\n",
       "      <th>HLM</th>\n",
       "    </tr>\n",
       "  </thead>\n",
       "  <tbody>\n",
       "    <tr>\n",
       "      <th>0</th>\n",
       "      <td>TEST_000</td>\n",
       "      <td>21.748301</td>\n",
       "      <td>31.806074</td>\n",
       "    </tr>\n",
       "    <tr>\n",
       "      <th>1</th>\n",
       "      <td>TEST_001</td>\n",
       "      <td>36.054173</td>\n",
       "      <td>42.801453</td>\n",
       "    </tr>\n",
       "    <tr>\n",
       "      <th>2</th>\n",
       "      <td>TEST_002</td>\n",
       "      <td>29.101400</td>\n",
       "      <td>37.973015</td>\n",
       "    </tr>\n",
       "    <tr>\n",
       "      <th>3</th>\n",
       "      <td>TEST_003</td>\n",
       "      <td>27.596043</td>\n",
       "      <td>38.397438</td>\n",
       "    </tr>\n",
       "    <tr>\n",
       "      <th>4</th>\n",
       "      <td>TEST_004</td>\n",
       "      <td>30.826948</td>\n",
       "      <td>40.651085</td>\n",
       "    </tr>\n",
       "    <tr>\n",
       "      <th>...</th>\n",
       "      <td>...</td>\n",
       "      <td>...</td>\n",
       "      <td>...</td>\n",
       "    </tr>\n",
       "    <tr>\n",
       "      <th>478</th>\n",
       "      <td>TEST_478</td>\n",
       "      <td>15.455660</td>\n",
       "      <td>23.015387</td>\n",
       "    </tr>\n",
       "    <tr>\n",
       "      <th>479</th>\n",
       "      <td>TEST_479</td>\n",
       "      <td>47.134033</td>\n",
       "      <td>55.452629</td>\n",
       "    </tr>\n",
       "    <tr>\n",
       "      <th>480</th>\n",
       "      <td>TEST_480</td>\n",
       "      <td>31.605787</td>\n",
       "      <td>35.862236</td>\n",
       "    </tr>\n",
       "    <tr>\n",
       "      <th>481</th>\n",
       "      <td>TEST_481</td>\n",
       "      <td>51.585655</td>\n",
       "      <td>51.985855</td>\n",
       "    </tr>\n",
       "    <tr>\n",
       "      <th>482</th>\n",
       "      <td>TEST_482</td>\n",
       "      <td>26.661200</td>\n",
       "      <td>43.343513</td>\n",
       "    </tr>\n",
       "  </tbody>\n",
       "</table>\n",
       "<p>483 rows × 3 columns</p>\n",
       "</div>"
      ],
      "text/plain": [
       "           id        MLM        HLM\n",
       "0    TEST_000  21.748301  31.806074\n",
       "1    TEST_001  36.054173  42.801453\n",
       "2    TEST_002  29.101400  37.973015\n",
       "3    TEST_003  27.596043  38.397438\n",
       "4    TEST_004  30.826948  40.651085\n",
       "..        ...        ...        ...\n",
       "478  TEST_478  15.455660  23.015387\n",
       "479  TEST_479  47.134033  55.452629\n",
       "480  TEST_480  31.605787  35.862236\n",
       "481  TEST_481  51.585655  51.985855\n",
       "482  TEST_482  26.661200  43.343513\n",
       "\n",
       "[483 rows x 3 columns]"
      ]
     },
     "execution_count": 26,
     "metadata": {},
     "output_type": "execute_result"
    }
   ],
   "source": [
    "submission['MLM'] = predictions_MLM\n",
    "submission['HLM'] = predictions_HLM\n",
    "submission"
   ]
  },
  {
   "cell_type": "code",
   "execution_count": 36,
   "id": "235a201b",
   "metadata": {
    "ExecuteTime": {
     "end_time": "2023-09-19T20:50:02.392235Z",
     "start_time": "2023-09-19T20:50:02.218650Z"
    }
   },
   "outputs": [
    {
     "data": {
      "text/plain": [
       "array([[<Axes: title={'center': 'MLM'}>, <Axes: title={'center': 'HLM'}>]],\n",
       "      dtype=object)"
      ]
     },
     "execution_count": 36,
     "metadata": {},
     "output_type": "execute_result"
    },
    {
     "data": {
      "image/png": "[encoded data removed]",
      "text/plain": [
       "<Figure size 1000x500 with 2 Axes>"
      ]
     },
     "metadata": {},
     "output_type": "display_data"
    }
   ],
   "source": [
    "submission.hist(figsize=[10, 5])"
   ]
  },
  {
   "cell_type": "code",
   "execution_count": 27,
   "id": "2eaf46fc",
   "metadata": {
    "ExecuteTime": {
     "end_time": "2023-09-19T19:15:00.527822Z",
     "start_time": "2023-09-19T19:15:00.520876Z"
    }
   },
   "outputs": [],
   "source": [
    "submission.to_csv('baseline_submission.csv', index=False)"
   ]
  },
  {
   "cell_type": "code",
   "execution_count": null,
   "id": "74bb1c65",
   "metadata": {},
   "outputs": [],
   "source": []
  }
 ],
 "metadata": {
  "accelerator": "GPU",
  "colab": {
   "provenance": [],
   "toc_visible": true
  },
  "gpuClass": "standard",
  "kernelspec": {
   "display_name": "Python 3 (ipykernel)",
   "language": "python",
   "name": "python3"
  },
  "language_info": {
   "codemirror_mode": {
    "name": "ipython",
    "version": 3
   },
   "file_extension": ".py",
   "mimetype": "text/x-python",
   "name": "python",
   "nbconvert_exporter": "python",
   "pygments_lexer": "ipython3",
   "version": "3.9.16"
  },
  "toc": {
   "base_numbering": 1,
   "nav_menu": {},
   "number_sections": true,
   "sideBar": true,
   "skip_h1_title": false,
   "title_cell": "Table of Contents",
   "title_sidebar": "Contents",
   "toc_cell": true,
   "toc_position": {
    "height": "804.705872px",
    "left": "213px",
    "top": "118.698524px",
    "width": "211.985291px"
   },
   "toc_section_display": true,
   "toc_window_display": true
  },
  "vscode": {
   "interpreter": {
    "hash": "88a5da79f9030d36a713e3ceec9ed9a47a216907c035af9944c458137c4e5cb3"
   }
  }
 },
 "nbformat": 4,
 "nbformat_minor": 5
}
